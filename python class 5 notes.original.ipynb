{
 "cells": [
  {
   "cell_type": "raw",
   "id": "a658a76e",
   "metadata": {},
   "source": [
    "real time example of car trade:"
   ]
  },
  {
   "cell_type": "code",
   "execution_count": 12,
   "id": "6fe2357b",
   "metadata": {},
   "outputs": [],
   "source": [
    "def used_car_price ( car_year,car_brand,kmeters):\n",
    "    if car_year == 2020:\n",
    "        if 10000<kmeters<15000:\n",
    "            if car_brand == 'honda amaze':\n",
    "                print('Rs 845000 - Rs 900000')\n",
    "            elif car_brand == 'hyundai creta':\n",
    "                print('Rs 745000-800000')\n",
    "            else:\n",
    "                print('no stocks right now')\n",
    "        elif 15001<kmeters<25000:\n",
    "            if car_brand == 'honda amaze':\n",
    "                print('Rs6,70000-Rs700000')\n",
    "            elif car_brand =='hyundai creta':\n",
    "                print('Rs800000-900000')\n",
    "            else:\n",
    "                print('no stock right now')\n",
    "    elif car_year ==2021:\n",
    "        if 10000<kmeters<15001:\n",
    "            if car_brand =='honda amaze':\n",
    "                print('Rs 700000-Rs800000')\n",
    "            elif car_brand =='hyundai creta':\n",
    "                print('Rs 850000-Rs900000')\n",
    "            else:\n",
    "                print('no stock right now')\n",
    "        elif 15001<kmeters<25000:\n",
    "            if car_brand == 'honda amaze':\n",
    "                print('Rs 810000-Rs900000')\n",
    "            elif car_brand =='hyundai creta':\n",
    "                print('Rs 850000-Rs 900000')\n",
    "            else:\n",
    "                print('no stock right now')\n",
    "    else:\n",
    "        print('we dont need car older than 2020')\n",
    "                \n"
   ]
  },
  {
   "cell_type": "code",
   "execution_count": 13,
   "id": "32c30c9b",
   "metadata": {},
   "outputs": [
    {
     "name": "stdout",
     "output_type": "stream",
     "text": [
      "Rs 700000-Rs800000\n"
     ]
    }
   ],
   "source": [
    "#calling off the function:\n",
    "used_car_price(2021,'honda amaze',13000)"
   ]
  },
  {
   "cell_type": "code",
   "execution_count": 14,
   "id": "612fbd27",
   "metadata": {},
   "outputs": [
    {
     "name": "stdout",
     "output_type": "stream",
     "text": [
      "Rs800000-900000\n"
     ]
    }
   ],
   "source": [
    "used_car_price(2020,'hyundai creta' , 18000)"
   ]
  },
  {
   "cell_type": "code",
   "execution_count": 15,
   "id": "bce412d0",
   "metadata": {},
   "outputs": [
    {
     "name": "stdout",
     "output_type": "stream",
     "text": [
      "we dont need car older than 2020\n"
     ]
    }
   ],
   "source": [
    "used_car_price(2019,'honda amaze', 15000)"
   ]
  },
  {
   "cell_type": "code",
   "execution_count": 18,
   "id": "56914644",
   "metadata": {},
   "outputs": [],
   "source": [
    "used_car_price(2020,'maruti suzuki',2020)"
   ]
  },
  {
   "cell_type": "markdown",
   "id": "808a9d4e",
   "metadata": {},
   "source": [
    "# lambda function:\n",
    "                              function has two types 1.define function 2.lambda function.\n",
    "                              it\"s used for simple types of code.\n",
    "                              syntax = lambda arguments: expression   ,   lambda = function\n",
    "                                                                          expression = logic"
   ]
  },
  {
   "cell_type": "code",
   "execution_count": 19,
   "id": "42dbcfbd",
   "metadata": {},
   "outputs": [
    {
     "name": "stdout",
     "output_type": "stream",
     "text": [
      "80\n"
     ]
    }
   ],
   "source": [
    "add_number = lambda y : y+30\n",
    "print(add_number(50))"
   ]
  },
  {
   "cell_type": "code",
   "execution_count": 20,
   "id": "7f4a8207",
   "metadata": {},
   "outputs": [
    {
     "name": "stdout",
     "output_type": "stream",
     "text": [
      "140\n"
     ]
    }
   ],
   "source": [
    "print(add_number(110))"
   ]
  },
  {
   "cell_type": "code",
   "execution_count": 21,
   "id": "3ccab75f",
   "metadata": {},
   "outputs": [],
   "source": [
    "multi_number = lambda a , b : a*b"
   ]
  },
  {
   "cell_type": "code",
   "execution_count": 23,
   "id": "5242ac13",
   "metadata": {},
   "outputs": [
    {
     "name": "stdout",
     "output_type": "stream",
     "text": [
      "8277\n"
     ]
    }
   ],
   "source": [
    "print(multi_number(93,89))"
   ]
  },
  {
   "cell_type": "code",
   "execution_count": 24,
   "id": "49df1933",
   "metadata": {},
   "outputs": [
    {
     "data": {
      "text/plain": [
       "3822"
      ]
     },
     "execution_count": 24,
     "metadata": {},
     "output_type": "execute_result"
    }
   ],
   "source": [
    "multi_number(39,98)"
   ]
  },
  {
   "cell_type": "markdown",
   "id": "d3224f03",
   "metadata": {},
   "source": [
    "# args* and kwargs**"
   ]
  },
  {
   "cell_type": "raw",
   "id": "c6462279",
   "metadata": {},
   "source": [
    "args are used when we dont know how many arguments /data we have to pass.\n",
    "in cardefine function we have total of three arguments but in args we dont know how many arguments we need to pass.\n"
   ]
  },
  {
   "cell_type": "code",
   "execution_count": 25,
   "id": "58344158",
   "metadata": {},
   "outputs": [],
   "source": [
    "def my_function(*args):      #that star is imp.\n",
    "    for i in args:\n",
    "        print ('my args-',i)"
   ]
  },
  {
   "cell_type": "code",
   "execution_count": 28,
   "id": "b2b07fe4",
   "metadata": {},
   "outputs": [
    {
     "name": "stdout",
     "output_type": "stream",
     "text": [
      "my args- india\n"
     ]
    }
   ],
   "source": [
    "my_function('india')"
   ]
  },
  {
   "cell_type": "code",
   "execution_count": 29,
   "id": "bf47c1b5",
   "metadata": {},
   "outputs": [
    {
     "name": "stdout",
     "output_type": "stream",
     "text": [
      "my args- bengaluru\n",
      "my args- noida\n",
      "my args- bhiwani\n"
     ]
    }
   ],
   "source": [
    "my_function('bengaluru' , 'noida' , 'bhiwani')      #as many as data can be add."
   ]
  },
  {
   "cell_type": "markdown",
   "id": "69b40e98",
   "metadata": {},
   "source": [
    "# kwargs:\n",
    "               kwargs will take data as dictionary in the form of key and value.kwargs = key + value."
   ]
  },
  {
   "cell_type": "code",
   "execution_count": 35,
   "id": "88166797",
   "metadata": {},
   "outputs": [],
   "source": [
    "def my_kwargs(**kwargs):\n",
    "    for key,value in kwargs.items():\n",
    "        print(key , '=', value)"
   ]
  },
  {
   "cell_type": "code",
   "execution_count": 36,
   "id": "7c3664e0",
   "metadata": {},
   "outputs": [
    {
     "name": "stdout",
     "output_type": "stream",
     "text": [
      "students = ['ram', 'shyam']\n",
      "marks = [12, 34]\n"
     ]
    }
   ],
   "source": [
    "my_kwargs(students = ['ram','shyam'],marks = [12,34])"
   ]
  },
  {
   "cell_type": "markdown",
   "id": "55247356",
   "metadata": {},
   "source": [
    "# string indexing"
   ]
  },
  {
   "cell_type": "code",
   "execution_count": 37,
   "id": "13e947f9",
   "metadata": {},
   "outputs": [],
   "source": [
    "# this batch rocks = t=0,h=1.i=2,s=3,gap=4,b=5,a=6,t=7,c=8,h=9,gap=10,r=11,o=12,c=13,k=14,s=15\n",
    "# s[o]=t,s stands for string\n",
    "#s[1:] 1 is start point which is h,and space after colon shows last index which is s. his batch rocks\n",
    "#s[3:9] 3 index is s and last index is (9-1=8) , s bat\n",
    "#s[-1] , -1 will be last s ,\n",
    "#s[:-1] , this batch rock, from start t and end (-1-1=-2)\n",
    "#s[::2] , start pont,end point,step ti ac ok\n",
    "#S[::-2] , scrhtbit"
   ]
  },
  {
   "cell_type": "markdown",
   "id": "c9232a0f",
   "metadata": {},
   "source": [
    "# map()\n",
    "it is a function we define function and then call a function but with map  we do the same things in a different way.\n",
    "map(function , data)  map has two arguments function and data."
   ]
  },
  {
   "cell_type": "code",
   "execution_count": 38,
   "id": "e12d7969",
   "metadata": {},
   "outputs": [],
   "source": [
    "def grace_marks(marks):\n",
    "    if marks == 33:\n",
    "        return (marks+2)             #this is a function\n",
    "    elif marks == 34:\n",
    "        return(marks+1)\n",
    "    else:\n",
    "        return marks"
   ]
  },
  {
   "cell_type": "code",
   "execution_count": 39,
   "id": "ec8a8d4e",
   "metadata": {},
   "outputs": [],
   "source": [
    "score = [32,34,35,36,33,34,32,33,35,37]    #this is data"
   ]
  },
  {
   "cell_type": "code",
   "execution_count": 40,
   "id": "12c494ea",
   "metadata": {},
   "outputs": [
    {
     "name": "stdout",
     "output_type": "stream",
     "text": [
      "[32, 35, 35, 36, 35, 35, 32, 35, 35, 37]\n"
     ]
    }
   ],
   "source": [
    "total = list(map(grace_marks,score))\n",
    "print(total)                             #map will show all the data"
   ]
  },
  {
   "cell_type": "markdown",
   "id": "d19cba43",
   "metadata": {},
   "source": [
    "# filter:\n",
    "unlike map here only condition satisfied data will be shown.\n",
    "syntax of filter will be same As map it need function and data."
   ]
  },
  {
   "cell_type": "code",
   "execution_count": 47,
   "id": "77aea1f6",
   "metadata": {},
   "outputs": [],
   "source": [
    "def filter_marks(marks):    #this is function\n",
    "    if marks <35:\n",
    "        return marks"
   ]
  },
  {
   "cell_type": "code",
   "execution_count": 48,
   "id": "8e8d404c",
   "metadata": {},
   "outputs": [],
   "source": [
    "score = [50,34,35,36,37,32,33,36,39,31,32,33,]      #this is data"
   ]
  },
  {
   "cell_type": "code",
   "execution_count": 49,
   "id": "9a51f283",
   "metadata": {},
   "outputs": [
    {
     "name": "stdout",
     "output_type": "stream",
     "text": [
      "[34, 32, 33, 31, 32, 33]\n"
     ]
    }
   ],
   "source": [
    "failed = list(filter(filter_marks , score))\n",
    "print(failed)"
   ]
  },
  {
   "cell_type": "code",
   "execution_count": 50,
   "id": "857eb54d",
   "metadata": {},
   "outputs": [
    {
     "data": {
      "text/plain": [
       "[34, 32, 33, 31, 32, 33]"
      ]
     },
     "execution_count": 50,
     "metadata": {},
     "output_type": "execute_result"
    }
   ],
   "source": [
    "failed"
   ]
  },
  {
   "cell_type": "markdown",
   "id": "05f275ab",
   "metadata": {},
   "source": [
    "# global and local variable:\n"
   ]
  },
  {
   "cell_type": "code",
   "execution_count": 52,
   "id": "a17f5818",
   "metadata": {},
   "outputs": [],
   "source": [
    "extra_marks = 10\n",
    "def totalscore_glob():\n",
    "    print('printing inside the function and total is -',35 + extra_marks)"
   ]
  },
  {
   "cell_type": "code",
   "execution_count": 53,
   "id": "6c8b6d90",
   "metadata": {},
   "outputs": [
    {
     "name": "stdout",
     "output_type": "stream",
     "text": [
      "printing inside the function and total is - 45\n"
     ]
    }
   ],
   "source": [
    "totalscore_glob()"
   ]
  },
  {
   "cell_type": "code",
   "execution_count": 59,
   "id": "12fd82ad",
   "metadata": {},
   "outputs": [],
   "source": [
    "#local variable\n",
    "def totalscore_loc():\n",
    "    some_marks =50\n",
    "    print('printing inside the function and total is',50 + some_marks)\n",
    "      "
   ]
  },
  {
   "cell_type": "code",
   "execution_count": 61,
   "id": "b03ce8f6",
   "metadata": {},
   "outputs": [
    {
     "name": "stdout",
     "output_type": "stream",
     "text": [
      "printing inside the function and total is 100\n"
     ]
    }
   ],
   "source": [
    "totalscore_loc()"
   ]
  },
  {
   "cell_type": "code",
   "execution_count": 63,
   "id": "fa15529e",
   "metadata": {},
   "outputs": [
    {
     "ename": "NameError",
     "evalue": "name 'some_marks' is not defined",
     "output_type": "error",
     "traceback": [
      "\u001b[1;31m---------------------------------------------------------------------------\u001b[0m",
      "\u001b[1;31mNameError\u001b[0m                                 Traceback (most recent call last)",
      "\u001b[1;32m~\\AppData\\Local\\Temp\\ipykernel_3736\\3757934522.py\u001b[0m in \u001b[0;36m<module>\u001b[1;34m\u001b[0m\n\u001b[1;32m----> 1\u001b[1;33m \u001b[0mprint\u001b[0m\u001b[1;33m(\u001b[0m\u001b[1;34m'printing outside the function and total is -'\u001b[0m \u001b[1;33m,\u001b[0m \u001b[1;36m50\u001b[0m \u001b[1;33m+\u001b[0m \u001b[0msome_marks\u001b[0m\u001b[1;33m)\u001b[0m\u001b[1;33m\u001b[0m\u001b[1;33m\u001b[0m\u001b[0m\n\u001b[0m",
      "\u001b[1;31mNameError\u001b[0m: name 'some_marks' is not defined"
     ]
    }
   ],
   "source": [
    "print('printing outside the function and total is -' , 50 + some_marks)     #here the local variable is not working with another function\n"
   ]
  },
  {
   "cell_type": "code",
   "execution_count": 65,
   "id": "6bce803d",
   "metadata": {},
   "outputs": [],
   "source": [
    "#how to use local variable outside the function\n",
    "def local_global():\n",
    "    global var12\n",
    "    var12 = 'this is fantastic'\n",
    "    print(var12)"
   ]
  },
  {
   "cell_type": "code",
   "execution_count": 67,
   "id": "9378223c",
   "metadata": {},
   "outputs": [
    {
     "name": "stdout",
     "output_type": "stream",
     "text": [
      "this is fantastic\n"
     ]
    }
   ],
   "source": [
    "local_global()"
   ]
  },
  {
   "cell_type": "markdown",
   "id": "3b43c428",
   "metadata": {},
   "source": [
    "# input from user/keyboard:\n"
   ]
  },
  {
   "cell_type": "code",
   "execution_count": 69,
   "id": "651f01a7",
   "metadata": {},
   "outputs": [
    {
     "name": "stdout",
     "output_type": "stream",
     "text": [
      "enter your namerohan\n",
      "user entered: rohan\n"
     ]
    }
   ],
   "source": [
    "name = input('enter your name')\n",
    "print('user entered:', name)"
   ]
  },
  {
   "cell_type": "code",
   "execution_count": 70,
   "id": "802f09dd",
   "metadata": {},
   "outputs": [
    {
     "name": "stdout",
     "output_type": "stream",
     "text": [
      "enter your maths score53\n",
      "enter your science marks48\n",
      "101\n"
     ]
    }
   ],
   "source": [
    "maths = int(input('enter your maths score'))\n",
    "science = int(input('enter your science marks'))    #here int is used we want our data in int form only\n",
    "total_marks = maths + science\n",
    "print(total_marks)"
   ]
  },
  {
   "cell_type": "code",
   "execution_count": 71,
   "id": "7b221dda",
   "metadata": {},
   "outputs": [
    {
     "name": "stdout",
     "output_type": "stream",
     "text": [
      "enter your name 1234\n",
      "enter only alpha character\n"
     ]
    }
   ],
   "source": [
    "#how to check only letters\n",
    "name = input('enter your name ')\n",
    "if name.isalpha():\n",
    "    print('you entered' , name)\n",
    "else:\n",
    "    print('enter only alpha character')\n",
    "    "
   ]
  },
  {
   "cell_type": "code",
   "execution_count": 72,
   "id": "dc0c5de8",
   "metadata": {},
   "outputs": [
    {
     "name": "stdout",
     "output_type": "stream",
     "text": [
      "enter car brand1234\n",
      "enter car yearn000\n"
     ]
    },
    {
     "ename": "ValueError",
     "evalue": "invalid literal for int() with base 10: 'n000'",
     "output_type": "error",
     "traceback": [
      "\u001b[1;31m---------------------------------------------------------------------------\u001b[0m",
      "\u001b[1;31mValueError\u001b[0m                                Traceback (most recent call last)",
      "\u001b[1;32m~\\AppData\\Local\\Temp\\ipykernel_3736\\2565554559.py\u001b[0m in \u001b[0;36m<module>\u001b[1;34m\u001b[0m\n\u001b[0;32m      1\u001b[0m \u001b[1;31m#car trade example\u001b[0m\u001b[1;33m\u001b[0m\u001b[1;33m\u001b[0m\u001b[0m\n\u001b[0;32m      2\u001b[0m \u001b[0mcar_brand\u001b[0m \u001b[1;33m=\u001b[0m \u001b[0minput\u001b[0m\u001b[1;33m(\u001b[0m\u001b[1;34m'enter car brand'\u001b[0m\u001b[1;33m)\u001b[0m\u001b[1;33m\u001b[0m\u001b[1;33m\u001b[0m\u001b[0m\n\u001b[1;32m----> 3\u001b[1;33m \u001b[0mcar_year\u001b[0m \u001b[1;33m=\u001b[0m \u001b[0mint\u001b[0m\u001b[1;33m(\u001b[0m\u001b[0minput\u001b[0m\u001b[1;33m(\u001b[0m\u001b[1;34m'enter car year'\u001b[0m\u001b[1;33m)\u001b[0m\u001b[1;33m)\u001b[0m\u001b[1;33m\u001b[0m\u001b[1;33m\u001b[0m\u001b[0m\n\u001b[0m\u001b[0;32m      4\u001b[0m \u001b[0mkmeters\u001b[0m \u001b[1;33m=\u001b[0m \u001b[0mint\u001b[0m\u001b[1;33m(\u001b[0m\u001b[0minput\u001b[0m\u001b[1;33m(\u001b[0m\u001b[1;34m'enter kmeters'\u001b[0m\u001b[1;33m)\u001b[0m\u001b[1;33m)\u001b[0m\u001b[1;33m\u001b[0m\u001b[1;33m\u001b[0m\u001b[0m\n",
      "\u001b[1;31mValueError\u001b[0m: invalid literal for int() with base 10: 'n000'"
     ]
    }
   ],
   "source": [
    "#car trade example\n",
    "car_brand = input('enter car brand')\n",
    "car_year = int(input('enter car year'))\n",
    "kmeters = int(input('enter kmeters'))"
   ]
  },
  {
   "cell_type": "code",
   "execution_count": null,
   "id": "f2cb49f3",
   "metadata": {},
   "outputs": [],
   "source": []
  }
 ],
 "metadata": {
  "kernelspec": {
   "display_name": "Python 3 (ipykernel)",
   "language": "python",
   "name": "python3"
  },
  "language_info": {
   "codemirror_mode": {
    "name": "ipython",
    "version": 3
   },
   "file_extension": ".py",
   "mimetype": "text/x-python",
   "name": "python",
   "nbconvert_exporter": "python",
   "pygments_lexer": "ipython3",
   "version": "3.9.13"
  }
 },
 "nbformat": 4,
 "nbformat_minor": 5
}
